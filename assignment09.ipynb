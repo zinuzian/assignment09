{
 "cells": [
  {
   "cell_type": "markdown",
   "metadata": {},
   "source": [
    "**Mathematical Foundations for Computer Vision and Machine Learning**\n",
    "\n",
    "***Assignment09 - Binary Classifier(Zero Classifier)***\n",
    "\n",
    "Name: Jinwoo Jeon\n",
    "\n",
    "Student ID: 20143954\n",
    "\n",
    "\n",
    "[Link to Github](https://github.com/zinuzian/assignment09)"
   ]
  },
  {
   "cell_type": "markdown",
   "metadata": {},
   "source": [
    "# Setting Up\n",
    "\n",
    "We should get ready to read mnist files. \n",
    "\n",
    "**Careful! It's really huge!** You should have enough free memory."
   ]
  },
  {
   "cell_type": "code",
   "execution_count": 2,
   "metadata": {},
   "outputs": [],
   "source": [
    "import matplotlib.pyplot as plt\n",
    "import numpy as np\n",
    "import pandas as pd\n",
    "from pandas import Series, DataFrame\n",
    "\n",
    "file_data_train = \"mnist_train.csv\"\n",
    "file_data_test  = \"mnist_test.csv\"\n",
    "\n",
    "h_data_train    = open(file_data_train, \"r\")\n",
    "h_data_test     = open(file_data_test, \"r\")\n",
    "\n",
    "data_train      = h_data_train.readlines()\n",
    "data_test       = h_data_test.readlines()\n",
    "\n",
    "h_data_train.close()\n",
    "h_data_test.close()\n",
    "\n",
    "size_row    = 28    # height of the image\n",
    "size_col    = 28    # width of the image\n",
    "\n",
    "num_train   = len(data_train)   # number of training images\n",
    "num_test    = len(data_test)    # number of testing images"
   ]
  },
  {
   "cell_type": "markdown",
   "metadata": {},
   "source": [
    "# Functions\n",
    "\n",
    "Theres some funtions implemented below.\n",
    "\n",
    "We should normalize the input data to get rid of bias.\n",
    "\n",
    "We are implementing binary classifier, so if label is 0, it is the answer. Otherwise, it isn't."
   ]
  },
  {
   "cell_type": "code",
   "execution_count": 3,
   "metadata": {},
   "outputs": [],
   "source": [
    "#\n",
    "# normalize the values of the input data to be [0, 1]\n",
    "#\n",
    "def normalize(data):\n",
    "\n",
    "    data_normalized = (data - min(data)) / (max(data) - min(data))\n",
    "\n",
    "    return(data_normalized)\n",
    "\n",
    "#\n",
    "# return 1 only if the value is what we are looking for. Otherwise -1.\n",
    "#\n",
    "def bi_partitioning(M,val):\n",
    "    length = len(M)\n",
    "    res = np.zeros((length))\n",
    "    for i in range(length):\n",
    "        if(M[i] == val):\n",
    "            res[i] = 1\n",
    "        else:\n",
    "            res[i] = -1\n",
    "    return res\n",
    "\n",
    "#\n",
    "# sign funtion\n",
    "#\n",
    "def sign(x):\n",
    "    if(x>=0):\n",
    "        return 1\n",
    "    else:\n",
    "        return -1\n",
    "    "
   ]
  },
  {
   "cell_type": "markdown",
   "metadata": {},
   "source": [
    "# Vectorize the Input Data\n",
    "\n",
    "We should get first element of MNIST data to get label.\n",
    "\n",
    "The real image data starts from second element."
   ]
  },
  {
   "cell_type": "code",
   "execution_count": 4,
   "metadata": {},
   "outputs": [],
   "source": [
    "#\n",
    "# make a matrix each column of which represents an images in a vector form \n",
    "#\n",
    "list_image_train    = np.empty((size_row * size_col, num_train), dtype=float)\n",
    "list_label_train    = np.empty(num_train, dtype=int)\n",
    "list_image_test     = np.empty((size_row * size_col, num_test), dtype=float)\n",
    "list_label_test     = np.empty(num_test, dtype=int)\n",
    "\n",
    "count = 0\n",
    "\n",
    "for line in data_train:\n",
    "\n",
    "    line_data   = line.split(',')\n",
    "    label       = line_data[0]\n",
    "    im_vector   = np.asfarray(line_data[1:])\n",
    "    im_vector   = normalize(im_vector)\n",
    "\n",
    "    list_label_train[count]     = label\n",
    "    list_image_train[:, count]  = im_vector   \n",
    "\n",
    "    count += 1\n",
    "    \n",
    "count = 0\n",
    "\n",
    "for line in data_test:\n",
    "\n",
    "    line_data   = line.split(',')\n",
    "    label       = line_data[0]\n",
    "    im_vector   = np.asfarray(line_data[1:])\n",
    "    im_vector   = normalize(im_vector)\n",
    "\n",
    "    list_label_test[count]      = label\n",
    "    list_image_test[:, count]   = im_vector    \n",
    "\n",
    "    count += 1"
   ]
  },
  {
   "cell_type": "markdown",
   "metadata": {},
   "source": [
    "# Feature Function\n",
    "\n",
    "We define a feature function ```featureOf``` with varying ```p```. \n",
    "\n",
    "$$ \\theta_{1}f_{1}(x_{1}) + \\theta_{2}f_{2}(x_{1}) + \\cdots + \\theta_{p}f_{p}(x_{1}) = y_{1} $$\n",
    "$$ \\theta_{1}f_{1}(x_{2}) + \\theta_{2}f_{2}(x_{2}) + \\cdots + \\theta_{p}f_{p}(x_{2}) = y_{2} $$\n",
    "$$ \\theta_{1}f_{1}(x_{3}) + \\theta_{2}f_{2}(x_{3}) + \\cdots + \\theta_{p}f_{p}(x_{3}) = y_{3} $$\n",
    "$$ \\vdots $$\n",
    "$$ \\theta_{1}f_{1}(x_{n}) + \\theta_{2}f_{2}(x_{n}) + \\cdots + \\theta_{p}f_{p}(x_{1}) = y_{n} $$\n",
    "\n",
    "We can write this as matmul.\n",
    "$$ \\begin{pmatrix} f_{1}(x_{1}) & \\cdots & f_{p}(x_{1}) \\\\ \\vdots &\\ddots & \\vdots \\\\ f_{1}(x_{n}) & \\cdots & f_{p}(x_{n}) \\end{pmatrix} \n",
    "\\begin{pmatrix} \\theta_{1} \\\\ \\vdots \\\\ \\theta_{p} \\end{pmatrix} \n",
    "= \\begin{pmatrix} y_{1} \\\\ \\vdots \\\\ y_{n}  \\end{pmatrix}$$\n",
    "\n",
    "Let's say that left tall matrix as ```A```. Then,\n",
    "$$ A =  \\begin{pmatrix} f_{1}(x_{1}) & \\cdots & f_{p}(x_{1}) \\\\ \\vdots &\\ddots & \\vdots \\\\ f_{1}(x_{n}) & \\cdots & f_{p}(x_{n}) \\end{pmatrix} = \\begin{pmatrix} r_{1}^{T}x_{1} & \\cdots & r_{p}^{T}x_{1} \\\\ \\vdots &\\ddots & \\vdots \\\\ r_{1}^{T}x_{n} & \\cdots & r_{p}^{T}x_{n} \\end{pmatrix} = \\begin{pmatrix}\\begin{pmatrix} r_{1}^{T} \\\\ \\vdots \\\\ r_{p}^{T}\\end{pmatrix} \\begin{pmatrix}x_{1}  \\cdots x_{n}\\end{pmatrix}\\end{pmatrix}^{T}$$\n",
    "\n",
    "We can easily implement this feature funtion by using ```R``` where,\n",
    "\n",
    "$$ R =  \\begin{pmatrix} r_{1}^{T} \\\\ \\vdots \\\\ r_{p}^{T}\\end{pmatrix}$$\n",
    "\n",
    "We can derive theta from equation above by pseudo inverse.\n",
    "$$ \\theta = \\left( A^{T}A\\right)^{-1}A^{T}B $$"
   ]
  },
  {
   "cell_type": "code",
   "execution_count": 30,
   "metadata": {},
   "outputs": [
    {
     "name": "stdout",
     "output_type": "stream",
     "text": [
      "[[ 0.06209322  1.69742221  0.93905718 ...  0.85790117 -1.1091334\n",
      "   1.88575297]\n",
      " [-0.01382504 -0.87095544  0.39818214 ...  0.76803312 -0.54626269\n",
      "  -0.00873051]\n",
      " [ 1.48064805 -0.19944027 -0.30861911 ... -1.08976679 -0.43483775\n",
      "   1.06988384]\n",
      " ...\n",
      " [ 1.22328131 -1.53053215  0.61355726 ...  1.63483972 -1.21843046\n",
      "   0.60292559]\n",
      " [-2.2363228  -0.59812129 -0.44962861 ... -0.35739552  1.42024426\n",
      "   0.48127517]\n",
      " [ 0.18784073 -0.32321428 -0.18496259 ... -0.21928588  1.10832017\n",
      "   0.48382031]]\n"
     ]
    }
   ],
   "source": [
    "R = np.zeros((size_row*size_col,size_row*size_col))\n",
    "for i in range(size_row*size_col):\n",
    "    R[i] = np.random.normal(0,1,size=size_row*size_col)\n",
    "print(R)\n",
    "\n",
    "\n",
    "def featureOf(x, p):\n",
    "    r=np.zeros((size_row*size_col,size_row*size_col))\n",
    "    for i in range(p):\n",
    "        r[i] = R[i]\n",
    "    return np.dot(r,x)\n",
    "\n"
   ]
  },
  {
   "cell_type": "markdown",
   "metadata": {},
   "source": [
    "# To make it Linearly Indepent\n",
    "\n",
    "We should erase **zero column** from the input data. This makes Matrix A as **dependent**, which makes impossible to get **pseudo inverse**.\n",
    "\n",
    "This means that in theta, the **ith value** is **0**. \n",
    "\n",
    "$$\\theta = [\\theta_{1} \\theta_{2} \\cdots \\theta_{784}]$$\n",
    "\n",
    "$$\\theta_{i} = 0$$\n",
    "\n",
    "We get the **F1 score** of every p between 100~784.\n",
    "\n",
    "And set index of maximum F1 score as variable m."
   ]
  },
  {
   "cell_type": "code",
   "execution_count": 47,
   "metadata": {},
   "outputs": [
    {
     "name": "stdout",
     "output_type": "stream",
     "text": [
      "0 0.20144144144144144 0.5704081632653061 0.2977363515312916\n",
      "1 0.3291139240506329 0.8755102040816326 0.4783942012824086\n",
      "2 0.5494117647058824 0.47653061224489796 0.5103825136612022\n",
      "3 0.6935866983372921 0.5959183673469388 0.6410537870472008\n",
      "4 0.7749419953596288 0.6816326530612244 0.7252985884907709\n",
      "5 0.8195232690124858 0.736734693877551 0.7759269210102095\n",
      "6 0.895855472901169 0.860204081632653 0.8776678813118167\n",
      "7 0.9331919406150583 0.8979591836734694 0.9152366094643786\n",
      "8 0.9393939393939394 0.9173469387755102 0.9282395456892102\n",
      "9 0.9422680412371134 0.9326530612244898 0.9374358974358974\n"
     ]
    }
   ],
   "source": [
    "scores = np.zeros(10)\n",
    "B = np.matrix(np.transpose(bi_partitioning(list_label_train,0)))   # (60000, 1)\n",
    "B_hat = bi_partitioning(list_label_test,0)\n",
    "\n",
    "for j in range(10):\n",
    "    p = 2**j\n",
    "    feature = featureOf(list_image_train, p)\n",
    "\n",
    "    index = np.where(~feature.any(axis=1))[0]\n",
    "    A = feature[~np.all(feature == 0, axis=1)]\n",
    "    A = np.matrix(np.transpose(A))\n",
    "\n",
    "    temp_theta = (A.T * A).I*A.T*B.T\n",
    "    \n",
    "    theta = np.zeros((size_col*size_row))\n",
    "    count = 0\n",
    "    for i in range(size_col*size_row):\n",
    "        if i not in index:\n",
    "            theta[i]=temp_theta[count]\n",
    "            count+=1\n",
    "            \n",
    "    table = np.zeros((2,2))\n",
    "\n",
    "    #im_avg = np.zeros((size_row*size_col,4))\n",
    "    \n",
    "    feature = featureOf(list_image_test, p)\n",
    "    for i in range(num_test):\n",
    "        if sign(theta.dot(feature[:,i])) == 1:\n",
    "            if(B_hat[i] == 1):\n",
    "                # True Positive\n",
    "                table[0][0] += 1\n",
    "                #im_avg[:,0] += list_image_test[:,i]\n",
    "            else:\n",
    "                # False Positive\n",
    "                table[1][0] += 1\n",
    "                #im_avg[:,1] += list_image_test[:,i]\n",
    "        else:\n",
    "            if(B_hat[i] == 1):\n",
    "                # False Negative\n",
    "                table[0][1] += 1\n",
    "                #im_avg[:,3] += list_image_test[:,i]\n",
    "            else:\n",
    "                # True Negative\n",
    "                table[1][1] += 1\n",
    "                #im_avg[:,2] += list_image_test[:,i]\n",
    "#     data = {\n",
    "#         'y_hat = +1' : [table[0][0],table[1][0],sum(table[:,0])],\n",
    "#         'y_hat = -1' : [table[0][1],table[1][1],sum(table[:,1])],\n",
    "#         'Total' : [sum(table[0]),sum(table[1]), sum(sum(table))] \n",
    "#     }\n",
    "#     frame = DataFrame(data,columns = ['y_hat = +1','y_hat = -1','Total'], index = ['y = +1','y = -1','All'])\n",
    "#     display(frame)\n",
    "    prec = table[0][0]/(table[0][0]+table[1][0])\n",
    "    rec = table[0][0]/(table[0][0] + table[0][1])\n",
    "    F1 = 2*(prec*rec/(prec+rec))\n",
    "    \n",
    " \n",
    "    \n",
    "    scores[j] = F1\n",
    "    print(str(j) + \" \" + str(prec) + \" \" + str(rec) + \" \" + str(F1))\n"
   ]
  },
  {
   "cell_type": "code",
   "execution_count": 51,
   "metadata": {},
   "outputs": [
    {
     "name": "stdout",
     "output_type": "stream",
     "text": [
      "Best p = 512\n",
      "0.9374358974358974\n"
     ]
    }
   ],
   "source": [
    "print(\"Best p = \" + str(2**np.argmax(scores)))\n",
    "print(max(scores))\n",
    "\n",
    "m = 2**np.argmax(scores)"
   ]
  },
  {
   "cell_type": "markdown",
   "metadata": {},
   "source": [
    "# Average Image of Each Table Value\n",
    "\n",
    "While classifing data, I also calculated average image of each TP,FP, TN, and FN.\n",
    "\n",
    "Average image of each one is plotted."
   ]
  },
  {
   "cell_type": "code",
   "execution_count": 54,
   "metadata": {},
   "outputs": [
    {
     "data": {
      "image/png": "[encoded data removed]",
      "text/plain": [
       "<Figure size 432x288 with 4 Axes>"
      ]
     },
     "metadata": {
      "needs_background": "light"
     },
     "output_type": "display_data"
    }
   ],
   "source": [
    "feature = featureOf(list_image_train, m)\n",
    "index = np.where(~feature.any(axis=1))[0]\n",
    "A = feature[~np.all(feature == 0, axis=1)]\n",
    "A = np.matrix(np.transpose(A))\n",
    "B = np.matrix(np.transpose(bi_partitioning(list_label_train,0)))   # (60000, 1)\n",
    "# print(A)\n",
    "temp_theta = (A.T * A).I*A.T*B.T\n",
    "theta = np.zeros((size_col*size_row))\n",
    "count = 0\n",
    "for i in range(size_col*size_row):\n",
    "    if i not in index:\n",
    "        theta[i]=temp_theta[count]\n",
    "        count+=1\n",
    "table = np.zeros((2,2))\n",
    "\n",
    "im_avg = np.zeros((size_row*size_col,4))\n",
    "feature = featureOf(list_image_test, m)\n",
    "for i in range(num_test):\n",
    "    if sign(theta.dot(feature[:,i])) == 1:\n",
    "        if(B_hat[i] == 1):\n",
    "            # True Positive\n",
    "            table[0][0] += 1\n",
    "            im_avg[:,0] += list_image_test[:,i]\n",
    "        else:\n",
    "            # False Positive\n",
    "            table[1][0] += 1\n",
    "            im_avg[:,1] += list_image_test[:,i]\n",
    "    else:\n",
    "        if(B_hat[i] == 1):\n",
    "            # False Negative\n",
    "            table[0][1] += 1\n",
    "            im_avg[:,3] += list_image_test[:,i]\n",
    "        else:\n",
    "            # True Negative\n",
    "            table[1][1] += 1\n",
    "            im_avg[:,2] += list_image_test[:,i]\n",
    "\n",
    "\n",
    "im_avg[:,0] /= table[0][0]\n",
    "im_avg[:,1] /= table[1][0]\n",
    "im_avg[:,2] /= table[1][1]\n",
    "im_avg[:,3] /= table[0][1]\n",
    "\n",
    "p1 = plt.subplot(2,2,1)\n",
    "p1.imshow(im_avg[:,0].reshape((size_row, size_col)),cmap='gray')\n",
    "p1.set_title(\"True Positive\")\n",
    "p2 = plt.subplot(2,2,2)\n",
    "p2.imshow(im_avg[:,1].reshape((size_row, size_col)),cmap='gray')\n",
    "p2.set_title(\"False Positive\")\n",
    "p3 = plt.subplot(2,2,3)\n",
    "p3.imshow(im_avg[:,2].reshape((size_row, size_col)),cmap='gray')\n",
    "p3.set_title(\"True Negative\")\n",
    "p4 = plt.subplot(2,2,4)\n",
    "p4.imshow(im_avg[:,3].reshape((size_row, size_col)),cmap='gray')\n",
    "p4.set_title(\"False Negative\")\n",
    "plt.subplots_adjust(hspace=1)"
   ]
  },
  {
   "cell_type": "code",
   "execution_count": null,
   "metadata": {},
   "outputs": [],
   "source": []
  }
 ],
 "metadata": {
  "kernelspec": {
   "display_name": "Python 3",
   "language": "python",
   "name": "python3"
  },
  "language_info": {
   "codemirror_mode": {
    "name": "ipython",
    "version": 3
   },
   "file_extension": ".py",
   "mimetype": "text/x-python",
   "name": "python",
   "nbconvert_exporter": "python",
   "pygments_lexer": "ipython3",
   "version": "3.6.4"
  }
 },
 "nbformat": 4,
 "nbformat_minor": 2
}
